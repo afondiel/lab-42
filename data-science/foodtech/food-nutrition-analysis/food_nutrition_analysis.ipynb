{
  "cells": [
    {
      "cell_type": "markdown",
      "metadata": {
        "id": "RE8-do9m0f5g"
      },
      "source": [
        "# McDo menu nutrition facts\n",
        "- Data analysis\n",
        "- Exploratory analysis\n",
        "- ingridients analysis"
      ]
    },
    {
      "cell_type": "markdown",
      "metadata": {
        "id": "aD1D9leWIMhX"
      },
      "source": [
        "installing essential packages"
      ]
    },
    {
      "cell_type": "code",
      "execution_count": 124,
      "metadata": {
        "id": "cdxO7i1L0fbT"
      },
      "outputs": [],
      "source": [
        "# !pip install numpy\n",
        "# !pip install pandas\n",
        "# !pip install requests\n",
        "# !pip install bs4\n",
        "# !pip install html5lib\n",
        "# !pip install plotly\n",
        "# !pip install pyfetch"
      ]
    },
    {
      "cell_type": "markdown",
      "metadata": {
        "id": "ePCYSMWn0f78"
      },
      "source": [
        "Import libraries"
      ]
    },
    {
      "cell_type": "code",
      "execution_count": 125,
      "metadata": {
        "id": "I2pAgB0a0fZD"
      },
      "outputs": [],
      "source": [
        "import numpy as np # linear algebra\n",
        "import pandas as pd # data exploratory\n",
        "import matplotlib.pyplot as plt\n",
        "%matplotlib inline\n",
        "import seaborn as sns\n",
        "import requests\n",
        "from bs4 import BeautifulSoup\n",
        "import plotly.graph_objects as go\n",
        "from plotly.subplots import make_subplots"
      ]
    },
    {
      "cell_type": "markdown",
      "metadata": {
        "id": "7M5SuiIP0f2p"
      },
      "source": [
        "### Data processing\n",
        "<p> Getting data from a DBMS </p>\n",
        "Dataset source : <a href=\"https://www.kaggle.com/datasets/mcdonalds/nutrition-facts\"> Kaggle <a>\n"
      ]
    },
    {
      "cell_type": "code",
      "execution_count": 126,
      "metadata": {
        "id": "tB82DWkh0BVf"
      },
      "outputs": [],
      "source": [
        "# # DBMS used for this project : DB2 from IBM\n",
        "# import ibm_db\n",
        "# import ibm_db_dbi\n",
        "# # data uploading process : Source => Target => Define => Finalize\n",
        "# # credential\n",
        "# # %sql ibm_db_sa://\n",
        "# # connect to dbms\n",
        "# ##conn_object = .....\n",
        "# # retrieving/customize data using SQL query and get specific columns if needs !\n",
        "# #connection for pandas\n",
        "# pconn = ibm_db_dbi.Connection(conn)\n",
        "# #query statement to retrieve all rows in <TARGET> table\n",
        "# selectQuery = \"select * from <TABLE>\"\n",
        "# #retrieve the query results into a pandas dataframe\n",
        "# pdf = pd.read_sql(selectQuery, pconn)\n",
        "# #print just the LNAME for first row in the pandas data frame\n",
        "# pdf\n",
        "\n"
      ]
    },
    {
      "cell_type": "markdown",
      "metadata": {
        "id": "JJwgki1-I-I6"
      },
      "source": [
        "Scrapping dataset from webpage\n"
      ]
    },
    {
      "cell_type": "code",
      "execution_count": 127,
      "metadata": {
        "id": "ON4tJM0b0ffx"
      },
      "outputs": [],
      "source": [
        "# url = 'https://www.kaggle.com/datasets/mcdonalds/nutrition-facts'\n",
        "# html_data = requests.get(url).text\n",
        "# # html_data"
      ]
    },
    {
      "cell_type": "code",
      "execution_count": 128,
      "metadata": {
        "id": "3ZZFFMI50fji"
      },
      "outputs": [],
      "source": [
        "# soup = BeautifulSoup(html_data, 'html5lib')\n",
        "# # soup\n",
        "\n",
        "# df = pd.DataFrame(columns=[\"Category\", \"Item\", \"Serving Size\", \"Calories\", \"Calories from Fat\", \"Total Fat\", \"Total Fat (% Daily Value)\", \"Saturated Fat\", \"Saturated Fat (% Daily Value)\", \"Trans Fat\", \"Cholesterol\", \"Cholesterol (% Daily Value)\", \"Sodium\", \"Sodium (% Daily Value)\", \"Carbohydrates\", \"Carbohydrates (% Daily Value)\", \"Dietary Fiber\", \"Dietary Fiber (% Daily Value)\", \"Sugars\", \"Protein\",\"Vitamin A (% Daily Value)\", \"Vitamin C (% Daily Value)\", \"Calcium (% Daily Value)\", \"Iron (% Daily Value)\"])\n",
        "\n",
        "# for row in tables[table_index].tbody.find_all(\"tr\"):\n",
        "#     col = row.find_all(\"td\")\n",
        "#     if (col != []):\n",
        "#         rank = col[0].text\n",
        "#         country = col[1].text\n",
        "#         population = col[2].text.strip()\n",
        "#         area = col[3].text.strip()\n",
        "#         density = col[4].text.strip()\n",
        "#         df = df.append({\"Rank\":rank, \"Country\":country, \"Population\":population, \"Area\":area, \"Density\":density}, ignore_index=True)\n",
        "\n",
        "# #df\n",
        "# # cleaning\n",
        "# df[\"Revenue\"] = df['Revenue'].str.replace(',|\\$',\"\")\n",
        "# df.dropna(inplace=True)\n",
        "\n",
        "# df = df[df['Revenue'] != \"\"]\n",
        "\n",
        "# df"
      ]
    },
    {
      "cell_type": "markdown",
      "metadata": {
        "id": "RMupL98Y0f_m"
      },
      "source": [
        "Download dataset from source webpage "
      ]
    },
    {
      "cell_type": "code",
      "execution_count": 129,
      "metadata": {
        "id": "sAOmWA8eNVbl"
      },
      "outputs": [],
      "source": [
        "# pypyodide API #Dont work here ? \n",
        "\n",
        "# # from pyodide.http import pyfetch\n",
        "# import pyfetch as pf\n",
        "\n",
        "# filename = \"link_to_file_location/menu.csv\"\n",
        "\n",
        "# async def download(url, filename):\n",
        "#     response = await pyfetch(url)\n",
        "#     if response.status == 200:\n",
        "#         with open(filename, \"wb\") as f:\n",
        "#             f.write(await response.bytes())\n",
        "\n",
        "# await download(filename, \"menu.csv\")\n",
        "\n",
        "# df = pd.read_csv(\"menu.csv\", header=None)"
      ]
    },
    {
      "cell_type": "code",
      "execution_count": 130,
      "metadata": {
        "id": "VlQXPVnkLs5t"
      },
      "outputs": [],
      "source": [
        "# If working on your local pc w/ jupyter nb\n",
        "# df = pd.read_csv('/content/drive/MyDrive/Lab/menu.csv', header=None) => columns become numbers!!!\n",
        "df = pd.read_csv('/content/drive/MyDrive/Lab/menu.csv')\n",
        "# df.head()"
      ]
    },
    {
      "cell_type": "markdown",
      "source": [
        "If You to download the dataset from a different source or your personal website "
      ],
      "metadata": {
        "id": "_U1sZbo-A-un"
      }
    },
    {
      "cell_type": "code",
      "execution_count": 131,
      "metadata": {
        "id": "fLGudoAgKqwq"
      },
      "outputs": [],
      "source": [
        "# ! wget \"https://docs.google.com/spreadsheets/d/14mYvEgvEFsvHyeZR7C2A1eS5pxzyPSE-1fJvinoh4pk/edit#gid=859843062\"\n",
        "# !curl -O https://raw.githubusercontent.com/jakevdp/marathon-data/master/marathon-data.csv"
      ]
    },
    {
      "cell_type": "markdown",
      "source": [
        "Loading dataset from google drive spreasheet using *gspread*\n",
        "- Notice that you'll need a google account"
      ],
      "metadata": {
        "id": "85tFdsMpBcuo"
      }
    },
    {
      "cell_type": "code",
      "execution_count": 132,
      "metadata": {
        "id": "i0hRjJc5ItTM"
      },
      "outputs": [],
      "source": [
        "# # to acccess the dataset from my googledrive w/ credentials \n",
        "##############################################################\n",
        "# from google.colab import auth\n",
        "# auth.authenticate_user()\n",
        "\n",
        "# import gspread\n",
        "# from google.auth import default\n",
        "# creds, _ = default()\n",
        "\n",
        "# gc = gspread.authorize(creds)\n",
        "#############################################################\n",
        "# # scope :  https://sheets.google.com.\n",
        "# # worksheet = gc.open('menu').sheet1\n",
        "############################################################################\n",
        "####### Accessing dataset without credentials uncomment the section below ## \n",
        "##################################################################~#########\n",
        "# worksheet = gc.open_by_url('https://docs.google.com/spreadsheets/d/14mYvEgvEFsvHyeZR7C2A1eS5pxzyPSE-1fJvinoh4pk/edit#gid=859843062').sheet1\n",
        "# # get_all_values gives a list of rows.\n",
        "# rows = worksheet.get_all_values()\n",
        "# # print(rows)\n",
        "\n",
        "# # Convert to a DataFrame and render.\n",
        "# import pandas as pd\n",
        "# df = pd.DataFrame.from_records(rows)\n",
        "# # df.tail()\n",
        "# df.head()"
      ]
    },
    {
      "cell_type": "code",
      "execution_count": 133,
      "metadata": {
        "id": "bhrZ65vDj-TQ",
        "colab": {
          "base_uri": "https://localhost:8080/",
          "height": 453
        },
        "outputId": "6c89f17a-ca14-4c0a-f06b-e195a645a0d8"
      },
      "outputs": [
        {
          "output_type": "execute_result",
          "data": {
            "text/plain": [
              "    Category                              Item    Serving Size  Calories  \\\n",
              "0  Breakfast                      Egg McMuffin  4.8 oz (136 g)       300   \n",
              "1  Breakfast                 Egg White Delight  4.8 oz (135 g)       250   \n",
              "2  Breakfast                  Sausage McMuffin  3.9 oz (111 g)       370   \n",
              "3  Breakfast         Sausage McMuffin with Egg  5.7 oz (161 g)       450   \n",
              "4  Breakfast  Sausage McMuffin with Egg Whites  5.7 oz (161 g)       400   \n",
              "\n",
              "   Calories from Fat  Total Fat  Total Fat (% Daily Value)  Saturated Fat  \\\n",
              "0                120       13.0                         20            5.0   \n",
              "1                 70        8.0                         12            3.0   \n",
              "2                200       23.0                         35            8.0   \n",
              "3                250       28.0                         43           10.0   \n",
              "4                210       23.0                         35            8.0   \n",
              "\n",
              "   Saturated Fat (% Daily Value)  Trans Fat  ...  Carbohydrates  \\\n",
              "0                             25        0.0  ...             31   \n",
              "1                             15        0.0  ...             30   \n",
              "2                             42        0.0  ...             29   \n",
              "3                             52        0.0  ...             30   \n",
              "4                             42        0.0  ...             30   \n",
              "\n",
              "   Carbohydrates (% Daily Value)  Dietary Fiber  \\\n",
              "0                             10              4   \n",
              "1                             10              4   \n",
              "2                             10              4   \n",
              "3                             10              4   \n",
              "4                             10              4   \n",
              "\n",
              "   Dietary Fiber (% Daily Value)  Sugars  Protein  Vitamin A (% Daily Value)  \\\n",
              "0                             17       3       17                         10   \n",
              "1                             17       3       18                          6   \n",
              "2                             17       2       14                          8   \n",
              "3                             17       2       21                         15   \n",
              "4                             17       2       21                          6   \n",
              "\n",
              "   Vitamin C (% Daily Value)  Calcium (% Daily Value)  Iron (% Daily Value)  \n",
              "0                          0                       25                    15  \n",
              "1                          0                       25                     8  \n",
              "2                          0                       25                    10  \n",
              "3                          0                       30                    15  \n",
              "4                          0                       25                    10  \n",
              "\n",
              "[5 rows x 24 columns]"
            ],
            "text/html": [
              "\n",
              "  <div id=\"df-1eb60cf5-1ff6-4a9c-ac94-7a41f42539b3\">\n",
              "    <div class=\"colab-df-container\">\n",
              "      <div>\n",
              "<style scoped>\n",
              "    .dataframe tbody tr th:only-of-type {\n",
              "        vertical-align: middle;\n",
              "    }\n",
              "\n",
              "    .dataframe tbody tr th {\n",
              "        vertical-align: top;\n",
              "    }\n",
              "\n",
              "    .dataframe thead th {\n",
              "        text-align: right;\n",
              "    }\n",
              "</style>\n",
              "<table border=\"1\" class=\"dataframe\">\n",
              "  <thead>\n",
              "    <tr style=\"text-align: right;\">\n",
              "      <th></th>\n",
              "      <th>Category</th>\n",
              "      <th>Item</th>\n",
              "      <th>Serving Size</th>\n",
              "      <th>Calories</th>\n",
              "      <th>Calories from Fat</th>\n",
              "      <th>Total Fat</th>\n",
              "      <th>Total Fat (% Daily Value)</th>\n",
              "      <th>Saturated Fat</th>\n",
              "      <th>Saturated Fat (% Daily Value)</th>\n",
              "      <th>Trans Fat</th>\n",
              "      <th>...</th>\n",
              "      <th>Carbohydrates</th>\n",
              "      <th>Carbohydrates (% Daily Value)</th>\n",
              "      <th>Dietary Fiber</th>\n",
              "      <th>Dietary Fiber (% Daily Value)</th>\n",
              "      <th>Sugars</th>\n",
              "      <th>Protein</th>\n",
              "      <th>Vitamin A (% Daily Value)</th>\n",
              "      <th>Vitamin C (% Daily Value)</th>\n",
              "      <th>Calcium (% Daily Value)</th>\n",
              "      <th>Iron (% Daily Value)</th>\n",
              "    </tr>\n",
              "  </thead>\n",
              "  <tbody>\n",
              "    <tr>\n",
              "      <th>0</th>\n",
              "      <td>Breakfast</td>\n",
              "      <td>Egg McMuffin</td>\n",
              "      <td>4.8 oz (136 g)</td>\n",
              "      <td>300</td>\n",
              "      <td>120</td>\n",
              "      <td>13.0</td>\n",
              "      <td>20</td>\n",
              "      <td>5.0</td>\n",
              "      <td>25</td>\n",
              "      <td>0.0</td>\n",
              "      <td>...</td>\n",
              "      <td>31</td>\n",
              "      <td>10</td>\n",
              "      <td>4</td>\n",
              "      <td>17</td>\n",
              "      <td>3</td>\n",
              "      <td>17</td>\n",
              "      <td>10</td>\n",
              "      <td>0</td>\n",
              "      <td>25</td>\n",
              "      <td>15</td>\n",
              "    </tr>\n",
              "    <tr>\n",
              "      <th>1</th>\n",
              "      <td>Breakfast</td>\n",
              "      <td>Egg White Delight</td>\n",
              "      <td>4.8 oz (135 g)</td>\n",
              "      <td>250</td>\n",
              "      <td>70</td>\n",
              "      <td>8.0</td>\n",
              "      <td>12</td>\n",
              "      <td>3.0</td>\n",
              "      <td>15</td>\n",
              "      <td>0.0</td>\n",
              "      <td>...</td>\n",
              "      <td>30</td>\n",
              "      <td>10</td>\n",
              "      <td>4</td>\n",
              "      <td>17</td>\n",
              "      <td>3</td>\n",
              "      <td>18</td>\n",
              "      <td>6</td>\n",
              "      <td>0</td>\n",
              "      <td>25</td>\n",
              "      <td>8</td>\n",
              "    </tr>\n",
              "    <tr>\n",
              "      <th>2</th>\n",
              "      <td>Breakfast</td>\n",
              "      <td>Sausage McMuffin</td>\n",
              "      <td>3.9 oz (111 g)</td>\n",
              "      <td>370</td>\n",
              "      <td>200</td>\n",
              "      <td>23.0</td>\n",
              "      <td>35</td>\n",
              "      <td>8.0</td>\n",
              "      <td>42</td>\n",
              "      <td>0.0</td>\n",
              "      <td>...</td>\n",
              "      <td>29</td>\n",
              "      <td>10</td>\n",
              "      <td>4</td>\n",
              "      <td>17</td>\n",
              "      <td>2</td>\n",
              "      <td>14</td>\n",
              "      <td>8</td>\n",
              "      <td>0</td>\n",
              "      <td>25</td>\n",
              "      <td>10</td>\n",
              "    </tr>\n",
              "    <tr>\n",
              "      <th>3</th>\n",
              "      <td>Breakfast</td>\n",
              "      <td>Sausage McMuffin with Egg</td>\n",
              "      <td>5.7 oz (161 g)</td>\n",
              "      <td>450</td>\n",
              "      <td>250</td>\n",
              "      <td>28.0</td>\n",
              "      <td>43</td>\n",
              "      <td>10.0</td>\n",
              "      <td>52</td>\n",
              "      <td>0.0</td>\n",
              "      <td>...</td>\n",
              "      <td>30</td>\n",
              "      <td>10</td>\n",
              "      <td>4</td>\n",
              "      <td>17</td>\n",
              "      <td>2</td>\n",
              "      <td>21</td>\n",
              "      <td>15</td>\n",
              "      <td>0</td>\n",
              "      <td>30</td>\n",
              "      <td>15</td>\n",
              "    </tr>\n",
              "    <tr>\n",
              "      <th>4</th>\n",
              "      <td>Breakfast</td>\n",
              "      <td>Sausage McMuffin with Egg Whites</td>\n",
              "      <td>5.7 oz (161 g)</td>\n",
              "      <td>400</td>\n",
              "      <td>210</td>\n",
              "      <td>23.0</td>\n",
              "      <td>35</td>\n",
              "      <td>8.0</td>\n",
              "      <td>42</td>\n",
              "      <td>0.0</td>\n",
              "      <td>...</td>\n",
              "      <td>30</td>\n",
              "      <td>10</td>\n",
              "      <td>4</td>\n",
              "      <td>17</td>\n",
              "      <td>2</td>\n",
              "      <td>21</td>\n",
              "      <td>6</td>\n",
              "      <td>0</td>\n",
              "      <td>25</td>\n",
              "      <td>10</td>\n",
              "    </tr>\n",
              "  </tbody>\n",
              "</table>\n",
              "<p>5 rows × 24 columns</p>\n",
              "</div>\n",
              "      <button class=\"colab-df-convert\" onclick=\"convertToInteractive('df-1eb60cf5-1ff6-4a9c-ac94-7a41f42539b3')\"\n",
              "              title=\"Convert this dataframe to an interactive table.\"\n",
              "              style=\"display:none;\">\n",
              "        \n",
              "  <svg xmlns=\"http://www.w3.org/2000/svg\" height=\"24px\"viewBox=\"0 0 24 24\"\n",
              "       width=\"24px\">\n",
              "    <path d=\"M0 0h24v24H0V0z\" fill=\"none\"/>\n",
              "    <path d=\"M18.56 5.44l.94 2.06.94-2.06 2.06-.94-2.06-.94-.94-2.06-.94 2.06-2.06.94zm-11 1L8.5 8.5l.94-2.06 2.06-.94-2.06-.94L8.5 2.5l-.94 2.06-2.06.94zm10 10l.94 2.06.94-2.06 2.06-.94-2.06-.94-.94-2.06-.94 2.06-2.06.94z\"/><path d=\"M17.41 7.96l-1.37-1.37c-.4-.4-.92-.59-1.43-.59-.52 0-1.04.2-1.43.59L10.3 9.45l-7.72 7.72c-.78.78-.78 2.05 0 2.83L4 21.41c.39.39.9.59 1.41.59.51 0 1.02-.2 1.41-.59l7.78-7.78 2.81-2.81c.8-.78.8-2.07 0-2.86zM5.41 20L4 18.59l7.72-7.72 1.47 1.35L5.41 20z\"/>\n",
              "  </svg>\n",
              "      </button>\n",
              "      \n",
              "  <style>\n",
              "    .colab-df-container {\n",
              "      display:flex;\n",
              "      flex-wrap:wrap;\n",
              "      gap: 12px;\n",
              "    }\n",
              "\n",
              "    .colab-df-convert {\n",
              "      background-color: #E8F0FE;\n",
              "      border: none;\n",
              "      border-radius: 50%;\n",
              "      cursor: pointer;\n",
              "      display: none;\n",
              "      fill: #1967D2;\n",
              "      height: 32px;\n",
              "      padding: 0 0 0 0;\n",
              "      width: 32px;\n",
              "    }\n",
              "\n",
              "    .colab-df-convert:hover {\n",
              "      background-color: #E2EBFA;\n",
              "      box-shadow: 0px 1px 2px rgba(60, 64, 67, 0.3), 0px 1px 3px 1px rgba(60, 64, 67, 0.15);\n",
              "      fill: #174EA6;\n",
              "    }\n",
              "\n",
              "    [theme=dark] .colab-df-convert {\n",
              "      background-color: #3B4455;\n",
              "      fill: #D2E3FC;\n",
              "    }\n",
              "\n",
              "    [theme=dark] .colab-df-convert:hover {\n",
              "      background-color: #434B5C;\n",
              "      box-shadow: 0px 1px 3px 1px rgba(0, 0, 0, 0.15);\n",
              "      filter: drop-shadow(0px 1px 2px rgba(0, 0, 0, 0.3));\n",
              "      fill: #FFFFFF;\n",
              "    }\n",
              "  </style>\n",
              "\n",
              "      <script>\n",
              "        const buttonEl =\n",
              "          document.querySelector('#df-1eb60cf5-1ff6-4a9c-ac94-7a41f42539b3 button.colab-df-convert');\n",
              "        buttonEl.style.display =\n",
              "          google.colab.kernel.accessAllowed ? 'block' : 'none';\n",
              "\n",
              "        async function convertToInteractive(key) {\n",
              "          const element = document.querySelector('#df-1eb60cf5-1ff6-4a9c-ac94-7a41f42539b3');\n",
              "          const dataTable =\n",
              "            await google.colab.kernel.invokeFunction('convertToInteractive',\n",
              "                                                     [key], {});\n",
              "          if (!dataTable) return;\n",
              "\n",
              "          const docLinkHtml = 'Like what you see? Visit the ' +\n",
              "            '<a target=\"_blank\" href=https://colab.research.google.com/notebooks/data_table.ipynb>data table notebook</a>'\n",
              "            + ' to learn more about interactive tables.';\n",
              "          element.innerHTML = '';\n",
              "          dataTable['output_type'] = 'display_data';\n",
              "          await google.colab.output.renderOutput(dataTable, element);\n",
              "          const docLink = document.createElement('div');\n",
              "          docLink.innerHTML = docLinkHtml;\n",
              "          element.appendChild(docLink);\n",
              "        }\n",
              "      </script>\n",
              "    </div>\n",
              "  </div>\n",
              "  "
            ]
          },
          "metadata": {},
          "execution_count": 133
        }
      ],
      "source": [
        "## Retrieving the first 5 rows\n",
        "\n",
        "# df.describe()\n",
        "# df.shape\n",
        "# df.columns\n",
        "# df.index\n",
        "# df.values\n",
        "df.head()"
      ]
    },
    {
      "cell_type": "markdown",
      "metadata": {
        "id": "pxGXkWdV0f0Y"
      },
      "source": [
        "## Data analysis"
      ]
    },
    {
      "cell_type": "markdown",
      "metadata": {
        "id": "ZJTolwykSOzN"
      },
      "source": [
        "Convert retrieved SQL query to DataFrame"
      ]
    },
    {
      "cell_type": "code",
      "execution_count": 134,
      "metadata": {
        "id": "BkkRoHRURJiK"
      },
      "outputs": [],
      "source": [
        "# # convert specific columns to a pyhton variables to be monitored\n",
        "# test_score_distribution = %sql SELECT test_score as \"Test Score\", count(*) as \"Frequency\" from INTERNATIONAL_STUDENT_TEST_SCORES GROUP BY test_score;\n",
        "# # test_score_distribution\n",
        "\n",
        "# # Convert retrieved query to DF\n",
        "# df = test_score_distribution.DataFrame()\n",
        "\n",
        "# # x : ind var and y : Kpi to viz\n",
        "# # plot = sbn.barplot(x='Test Score', y='Frequency', data=df)\n",
        "# plot"
      ]
    },
    {
      "cell_type": "markdown",
      "source": [
        "### Checking the MAX quantity of Sodium in the food\n",
        "- Main source of sodium is table salt\n",
        "- Average American eats 5 teaspoons/day\n",
        "- Sodium mostly added preparation\n",
        "- Foods that dont taste salty may be high in sodium\n",
        "- Sodium controls fluid balance in our bodies\n",
        "- Too much sodium may raise blood pressure"
      ],
      "metadata": {
        "id": "wWsNv3-NEiHD"
      }
    },
    {
      "cell_type": "code",
      "execution_count": 135,
      "metadata": {
        "id": "0jsNIQwPSWlP",
        "colab": {
          "base_uri": "https://localhost:8080/",
          "height": 524
        },
        "outputId": "c53e4032-4afb-4785-e4dd-580e5f3685a7"
      },
      "outputs": [
        {
          "output_type": "stream",
          "name": "stderr",
          "text": [
            "/usr/local/lib/python3.7/dist-packages/seaborn/categorical.py:1296: UserWarning: 7.1% of the points cannot be placed; you may want to decrease the size of the markers or use stripplot.\n",
            "  warnings.warn(msg, UserWarning)\n",
            "/usr/local/lib/python3.7/dist-packages/seaborn/categorical.py:1296: UserWarning: 63.0% of the points cannot be placed; you may want to decrease the size of the markers or use stripplot.\n",
            "  warnings.warn(msg, UserWarning)\n",
            "/usr/local/lib/python3.7/dist-packages/seaborn/categorical.py:1296: UserWarning: 80.0% of the points cannot be placed; you may want to decrease the size of the markers or use stripplot.\n",
            "  warnings.warn(msg, UserWarning)\n",
            "/usr/local/lib/python3.7/dist-packages/seaborn/categorical.py:1296: UserWarning: 32.1% of the points cannot be placed; you may want to decrease the size of the markers or use stripplot.\n",
            "  warnings.warn(msg, UserWarning)\n"
          ]
        },
        {
          "output_type": "display_data",
          "data": {
            "text/plain": [
              "<Figure size 432x288 with 1 Axes>"
            ],
            "image/png": "[encoded data removed]"
          },
          "metadata": {
            "needs_background": "light"
          }
        }
      ],
      "source": [
        "## Which food item has maximum sodium content ? \n",
        "\n",
        "### Categoricall scatterplots\n",
        "plot = sns.swarmplot(x=\"Category\", y=\"Sodium\", data=df)\n",
        "\n",
        "plt.setp(plot.get_xticklabels(), rotation=70)\n",
        "plt.title('Sodium content')\n",
        "plt.show()"
      ]
    },
    {
      "cell_type": "code",
      "execution_count": 136,
      "metadata": {
        "id": "PoyCFRjIsdvj",
        "colab": {
          "base_uri": "https://localhost:8080/"
        },
        "outputId": "cbe52e9e-8b1f-4a45-c334-df11189b0751"
      },
      "outputs": [
        {
          "output_type": "execute_result",
          "data": {
            "text/plain": [
              "count     260.000000\n",
              "mean      495.750000\n",
              "std       577.026323\n",
              "min         0.000000\n",
              "25%       107.500000\n",
              "50%       190.000000\n",
              "75%       865.000000\n",
              "max      3600.000000\n",
              "Name: Sodium, dtype: float64"
            ]
          },
          "metadata": {},
          "execution_count": 136
        }
      ],
      "source": [
        "# summary statistcs of sodium\n",
        "df['Sodium'].describe()"
      ]
    },
    {
      "cell_type": "code",
      "source": [
        "# get the max sodium idx value \n",
        "\n",
        "df.at[df['Sodium'].idxmax(), 'Item']"
      ],
      "metadata": {
        "colab": {
          "base_uri": "https://localhost:8080/",
          "height": 35
        },
        "id": "Ecdtz-FuAWlT",
        "outputId": "ff927534-789a-4d9f-84ad-f72b4fb57083"
      },
      "execution_count": 137,
      "outputs": [
        {
          "output_type": "execute_result",
          "data": {
            "text/plain": [
              "'Chicken McNuggets (40 piece)'"
            ],
            "application/vnd.google.colaboratory.intrinsic+json": {
              "type": "string"
            }
          },
          "metadata": {},
          "execution_count": 137
        }
      ]
    },
    {
      "cell_type": "code",
      "source": [
        "# scatterplot for Total Fat and Protein Correlation \n",
        "# there is a correlaction btw them because the highest point and lowest form a straight line\n",
        "# sns.jointplot(x='Protein', y='Total Fat', data=df)\n",
        "plot = sns.jointplot(x='Protein', y='Total Fat', data=df)\n",
        "# plot.show() => AttributeError: 'JointGrid' object has no attribute 'show'\n",
        "# plot.fig => Should somve this\n"
      ],
      "metadata": {
        "colab": {
          "base_uri": "https://localhost:8080/",
          "height": 441
        },
        "id": "LALaT7pkIggI",
        "outputId": "0a5b27ca-4073-466b-cc81-e43811edba69"
      },
      "execution_count": 138,
      "outputs": [
        {
          "output_type": "display_data",
          "data": {
            "text/plain": [
              "<Figure size 432x432 with 3 Axes>"
            ],
            "image/png": "[encoded data removed]"
          },
          "metadata": {
            "needs_background": "light"
          }
        }
      ]
    },
    {
      "cell_type": "markdown",
      "metadata": {
        "id": "9uOTocP5Sajp"
      },
      "source": [
        "*Close db From dbms & sql*"
      ]
    },
    {
      "cell_type": "code",
      "execution_count": 139,
      "metadata": {
        "id": "zaQQnHAHcVeM",
        "colab": {
          "base_uri": "https://localhost:8080/",
          "height": 279
        },
        "outputId": "9987fd7d-b585-4dd8-fe65-91e13c89eac1"
      },
      "outputs": [
        {
          "output_type": "display_data",
          "data": {
            "text/plain": [
              "<Figure size 432x288 with 1 Axes>"
            ],
            "image/png": "[encoded data removed]"
          },
          "metadata": {}
        }
      ],
      "source": [
        "# Level of sugar\n",
        "plot = sns.set_style(\"whitegrid\")\n",
        "ax = sns.boxplot(x=df['Sugars'])\n",
        "# plot.fig"
      ]
    },
    {
      "cell_type": "code",
      "execution_count": 140,
      "metadata": {
        "id": "6IxAgV2RP2aE"
      },
      "outputs": [],
      "source": [
        "# Close dbms connection\n",
        "# ibm_db.close(conn)"
      ]
    },
    {
      "cell_type": "markdown",
      "source": [
        "## History\n",
        "\n",
        "| Date (YYYY-MM-DD) | Version | Changed By    | Change Description        |\n",
        "| ----------------- | ------- | ------------- | ------------------------- |\n",
        "| 2022-06-16        | 1.0     | Afonso Diela | Created using google Colab |\n",
        "\n",
        "# <hr>\n",
        "\n"
      ],
      "metadata": {
        "id": "usGxci44hMbh"
      }
    }
  ],
  "metadata": {
    "colab": {
      "collapsed_sections": [],
      "name": "food-nutrition-analysis.ipynb",
      "provenance": []
    },
    "kernelspec": {
      "display_name": "Python 3",
      "name": "python3"
    },
    "language_info": {
      "name": "python"
    }
  },
  "nbformat": 4,
  "nbformat_minor": 0
}